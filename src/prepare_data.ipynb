{
 "cells": [
  {
   "cell_type": "code",
   "execution_count": null,
   "metadata": {},
   "outputs": [],
   "source": [
    "import pandas as pd\n",
    "from pathlib import Path\n",
    "\n",
    "\n",
    "base_path = Path(\"../\")\n",
    "data_file_path = base_path.joinpath(\"data/NCEI-Oakland_International_airport-standard_units/weather.csv\")\n",
    "\n",
    "\n",
    "\n",
    "weather_file = pd.read_csv(data_file_path, index_col=\"DATE\")\n",
    "weather_file"
   ]
  }
 ],
 "metadata": {
  "kernelspec": {
   "display_name": "venv_msi",
   "language": "python",
   "name": "python3"
  },
  "language_info": {
   "codemirror_mode": {
    "name": "ipython",
    "version": 3
   },
   "file_extension": ".py",
   "mimetype": "text/x-python",
   "name": "python",
   "nbconvert_exporter": "python",
   "pygments_lexer": "ipython3",
   "version": "3.11.5"
  }
 },
 "nbformat": 4,
 "nbformat_minor": 2
}
